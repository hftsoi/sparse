{
 "cells": [
  {
   "cell_type": "code",
   "execution_count": null,
   "id": "2791cb2a",
   "metadata": {},
   "outputs": [],
   "source": [
    "import h5py\n",
    "import glob\n",
    "import numpy as np\n",
    "import pandas as pd\n",
    "import tensorflow as tf\n",
    "import matplotlib.pyplot as plt\n",
    "import seaborn as sns\n",
    "from sklearn.model_selection import train_test_split\n",
    "from sklearn.metrics import roc_curve, auc, accuracy_score\n",
    "from sklearn.preprocessing import StandardScaler\n",
    "from tensorflow.keras.layers import *\n",
    "from tensorflow import keras\n",
    "from tensorflow.keras import layers, models, Model\n",
    "from sklearn.metrics import roc_curve, auc\n",
    "import tensorflow.keras.backend as K\n",
    "import joblib\n",
    "\n",
    "# compute a mask per event, and attach vec(0) for the first MLP output for those masked\n",
    "# so S and pho steps are unchanged, but skipping first MLP computations\n",
    "# the total dim N * D is still the same after the first MLP (those zero constituents are skipping phi)\n",
    "# --> for zero-padded constituents, directly make D-dim zeros for them after the first MLP\n",
    "# make a route:\n",
    "# if mask == 0:\n",
    "#     pass to first MLP\n",
    "# else:\n",
    "#     make D-dim zeros\n",
    "\n",
    "with h5py.File('data.h5', 'r') as f:\n",
    "    x = f['x'][:, :32, :]\n",
    "    y = f['y'][:]\n",
    "    \n",
    "x[x[:, :, 0] < 2] = 0\n",
    "\n",
    "q5 = np.percentile(x[:, :, 0], 5)\n",
    "q95 = np.percentile(x[:, :, 0], 95)\n",
    "x[:, :, 0] = (x[:, :, 0]) / (q95 - q5)\n",
    "\n",
    "#mean = np.mean(x, axis=(0, 1), keepdims=True)  # Shape: (1, 1, 3)\n",
    "#std = np.std(x, axis=(0, 1), keepdims=True)    # Shape: (1, 1, 3)\n",
    "#x = (x - mean) / std\n",
    "\n",
    "train_ratio = 0.6\n",
    "val_ratio = 0.1\n",
    "test_ratio = 1 - train_ratio - val_ratio\n",
    "X_train_val, X_test, Y_train_val, Y_test = train_test_split(x, y, test_size = test_ratio, random_state = 42)\n",
    "X_train, X_val, Y_train, Y_val = train_test_split(X_train_val, Y_train_val, test_size = val_ratio/(val_ratio + train_ratio), random_state = 42)\n",
    "print('X_train shape: ' + str(X_train.shape))\n",
    "print('X_val   shape: ' + str(X_val.shape))\n",
    "print('X_test  shape: ' + str(X_test.shape))\n",
    "print('Y_train shape: ' + str(Y_train.shape))\n",
    "print('Y_val   shape: ' + str(Y_val.shape))\n",
    "print('Y_test  shape: ' + str(Y_test.shape))\n",
    "del X_train_val, Y_train_val"
   ]
  },
  {
   "cell_type": "code",
   "execution_count": null,
   "id": "0f28e245",
   "metadata": {},
   "outputs": [],
   "source": [
    "def build_phi():\n",
    "    input_constituent = layers.Input(shape=(3,))  # Each constituent has 3 features\n",
    "    x = layers.Dense(32, activation='relu')(input_constituent)\n",
    "    x = layers.Dense(32, activation='relu')(x)\n",
    "    x = layers.Dense(32, activation='relu')(x)\n",
    "    return models.Model(input_constituent, x, name=\"phi\")\n",
    "\n",
    "def build_rho():\n",
    "    input_agg = layers.Input(shape=(32,))  # Aggregated max across constituents\n",
    "    x = layers.Dense(32, activation='relu')(input_agg)\n",
    "    output = layers.Dense(5, activation='softmax')(x)\n",
    "    return models.Model(input_agg, output, name=\"rho\")\n",
    "\n",
    "phi = build_phi()\n",
    "\n",
    "input_all_constituents = layers.Input(shape=(32, 3))\n",
    "\n",
    "phi_outputs = layers.TimeDistributed(phi)(input_all_constituents)\n",
    "\n",
    "agg = layers.GlobalMaxPooling1D()(phi_outputs)\n",
    "#agg = layers.Flatten()(phi_outputs)\n",
    "\n",
    "rho = build_rho()\n",
    "final_output = rho(agg)\n",
    "\n",
    "model = models.Model(input_all_constituents, final_output)\n",
    "\n",
    "model.compile(optimizer=tf.keras.optimizers.legacy.Adam(learning_rate=0.0032),\n",
    "              loss=tf.nn.softmax_cross_entropy_with_logits, metrics = 'accuracy')\n",
    "model.summary()"
   ]
  },
  {
   "cell_type": "code",
   "execution_count": null,
   "id": "8ef6f4fa",
   "metadata": {},
   "outputs": [],
   "source": [
    "history = model.fit(X_train, Y_train,\n",
    "                    validation_data = (X_val, Y_val),\n",
    "                    epochs=10, batch_size=128)"
   ]
  },
  {
   "cell_type": "code",
   "execution_count": null,
   "id": "0d6d8d21",
   "metadata": {},
   "outputs": [],
   "source": [
    "plt.figure(figsize = (15,10))\n",
    "axes = plt.subplot(2, 2, 1)\n",
    "axes.plot(history.history['loss'], label = 'train loss')\n",
    "#axes.set_yscale(value = \"log\")\n",
    "axes.plot(history.history['val_loss'], label = 'val loss')\n",
    "axes.legend(loc = \"upper right\")\n",
    "axes.set_xlabel('Epoch')\n",
    "axes.set_ylabel('Loss')"
   ]
  },
  {
   "cell_type": "code",
   "execution_count": null,
   "id": "69917d09",
   "metadata": {},
   "outputs": [],
   "source": [
    "Y_pred = model.predict(X_test)\n",
    "print(\"Accuracy: {}\".format(accuracy_score(np.argmax(Y_test, axis=1), np.argmax(Y_pred, axis=1))))"
   ]
  },
  {
   "cell_type": "code",
   "execution_count": null,
   "id": "e0ccf962",
   "metadata": {},
   "outputs": [],
   "source": [
    "def plot_roc(y_test, y_pred, labels):\n",
    "    for x, label in enumerate(labels):        \n",
    "        fpr, tpr, _ = roc_curve(y_test[:, x], y_pred[:, x])\n",
    "        plt.plot(fpr, tpr, label='{0} tagger, AUC = {1:.1f}'.format(label, auc(fpr, tpr)*100.), linestyle='-')\n",
    "    #plt.semilogy()\n",
    "    plt.ylabel(\"Signal Efficiency\")\n",
    "    plt.xlabel(\"Background Efficiency\")\n",
    "    #plt.ylim(0.001, 1)\n",
    "    plt.grid(True)\n",
    "    plt.legend(loc='best')  \n",
    "    \n",
    "plt.figure(figsize=(6, 6))\n",
    "plot_roc(Y_test, Y_pred, ['g','q','w','z','t'])"
   ]
  },
  {
   "cell_type": "code",
   "execution_count": null,
   "id": "793e366e",
   "metadata": {},
   "outputs": [],
   "source": []
  },
  {
   "cell_type": "code",
   "execution_count": null,
   "id": "80d98d0a",
   "metadata": {},
   "outputs": [],
   "source": []
  },
  {
   "cell_type": "code",
   "execution_count": null,
   "id": "ab098201",
   "metadata": {},
   "outputs": [],
   "source": []
  }
 ],
 "metadata": {
  "kernelspec": {
   "display_name": "Python 3 (ipykernel)",
   "language": "python",
   "name": "python3"
  },
  "language_info": {
   "codemirror_mode": {
    "name": "ipython",
    "version": 3
   },
   "file_extension": ".py",
   "mimetype": "text/x-python",
   "name": "python",
   "nbconvert_exporter": "python",
   "pygments_lexer": "ipython3",
   "version": "3.9.18"
  }
 },
 "nbformat": 4,
 "nbformat_minor": 5
}
