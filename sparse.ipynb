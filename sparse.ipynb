{
 "cells": [
  {
   "cell_type": "code",
   "execution_count": 1,
   "id": "c816cda9",
   "metadata": {},
   "outputs": [
    {
     "name": "stdout",
     "output_type": "stream",
     "text": [
      "WARN: Unable to import optimizer(s) from expr_templates.py: No module named 'sympy'\n",
      "WARNING: Failed to import handlers from merge.py: No module named 'torch'.\n",
      "WARNING: Failed to import handlers from convolution.py: No module named 'torch'.\n",
      "WARNING: Failed to import handlers from recurrent.py: No module named 'torch'.\n",
      "WARNING: Failed to import handlers from reshape.py: No module named 'torch'.\n",
      "WARNING: Failed to import handlers from pooling.py: No module named 'torch'.\n",
      "WARNING: Failed to import handlers from core.py: No module named 'torch'.\n"
     ]
    },
    {
     "name": "stderr",
     "output_type": "stream",
     "text": [
      "/Users/hofungtsoi/miniforge3/envs/sparse/lib/python3.10/site-packages/hls4ml/converters/__init__.py:28: UserWarning: WARNING: Pytorch converter is not enabled!\n",
      "  warnings.warn(\"WARNING: Pytorch converter is not enabled!\", stacklevel=1)\n"
     ]
    },
    {
     "data": {
      "image/png": "[encoded data removed]",
      "text/plain": [
       "<Figure size 800x600 with 1 Axes>"
      ]
     },
     "metadata": {},
     "output_type": "display_data"
    },
    {
     "name": "stdout",
     "output_type": "stream",
     "text": [
      "X_train shape: (439999, 12, 3)\n",
      "X_val   shape: (88001, 12, 3)\n",
      "X_test  shape: (352000, 12, 3)\n",
      "Y_train shape: (439999, 5)\n",
      "Y_val   shape: (88001, 5)\n",
      "Y_test  shape: (352000, 5)\n"
     ]
    }
   ],
   "source": [
    "import h5py\n",
    "import glob\n",
    "import numpy as np\n",
    "import pandas as pd\n",
    "import tensorflow as tf\n",
    "import matplotlib.pyplot as plt\n",
    "from sklearn.model_selection import train_test_split\n",
    "from sklearn.metrics import roc_curve, auc, accuracy_score\n",
    "from sklearn.preprocessing import StandardScaler\n",
    "from tensorflow.keras.layers import *\n",
    "from tensorflow import keras\n",
    "from tensorflow.keras import layers, models, Model\n",
    "from sklearn.metrics import roc_curve, auc\n",
    "import tensorflow.keras.backend as K\n",
    "import qkeras\n",
    "from qkeras import *\n",
    "import hls4ml\n",
    "\n",
    "np.random.seed(42)\n",
    "tf.random.set_seed(42)\n",
    "\n",
    "# truncate input with max number of constituents per jet\n",
    "N = 12\n",
    "\n",
    "with h5py.File('data.h5', 'r') as f:\n",
    "    x = f['x'][:, :N, :]\n",
    "    y = f['y'][:]\n",
    "\n",
    "# min pt cut on jet constituents\n",
    "x[x[:, :, 0] < 2] = 0\n",
    "\n",
    "non_zero_counts = np.sum(np.any(x == 0, axis=(2)), axis=1)\n",
    "plt.figure(figsize=(8, 6))\n",
    "plt.hist(non_zero_counts, bins=range(0, N+2), edgecolor='black', alpha=0.5)\n",
    "plt.xlabel(f\"Number of zero-padded constituents per jet (max {N} constituents considered per jet)\")\n",
    "plt.ylabel(\"Count of jets\")\n",
    "plt.yscale(\"log\")\n",
    "plt.show()\n",
    "\n",
    "# normalization of the pt feature by interquantile range\n",
    "q5 = np.percentile(x[:, :, 0], 5)\n",
    "q95 = np.percentile(x[:, :, 0], 95)\n",
    "x[:, :, 0] = (x[:, :, 0] - 0) / (q95 - q5)\n",
    "\n",
    "train_ratio = 0.5\n",
    "val_ratio = 0.1\n",
    "test_ratio = 1 - train_ratio - val_ratio\n",
    "X_train_val, X_test, Y_train_val, Y_test = train_test_split(x, y, test_size = test_ratio, random_state = 42)\n",
    "X_train, X_val, Y_train, Y_val = train_test_split(X_train_val, Y_train_val, test_size = val_ratio/(val_ratio + train_ratio), random_state = 42)\n",
    "print('X_train shape: ' + str(X_train.shape))\n",
    "print('X_val   shape: ' + str(X_val.shape))\n",
    "print('X_test  shape: ' + str(X_test.shape))\n",
    "print('Y_train shape: ' + str(Y_train.shape))\n",
    "print('Y_val   shape: ' + str(Y_val.shape))\n",
    "print('Y_test  shape: ' + str(Y_test.shape))\n",
    "del X_train_val, Y_train_val"
   ]
  },
  {
   "cell_type": "code",
   "execution_count": 2,
   "id": "bbe7c08e-06b0-44b4-9b63-45ed32742d27",
   "metadata": {},
   "outputs": [
    {
     "name": "stdout",
     "output_type": "stream",
     "text": [
      "Model: \"deepset_pointwisePhi\"\n",
      "_________________________________________________________________\n",
      " Layer (type)                Output Shape              Param #   \n",
      "=================================================================\n",
      " phi_input (InputLayer)      [(None, 12, 3)]           0         \n",
      "                                                                 \n",
      " phi1 (QConv1D)              (None, 12, 16)            48        \n",
      "                                                                 \n",
      " relu1 (QActivation)         (None, 12, 16)            0         \n",
      "                                                                 \n",
      " phi2 (QConv1D)              (None, 12, 16)            256       \n",
      "                                                                 \n",
      " relu2 (QActivation)         (None, 12, 16)            0         \n",
      "                                                                 \n",
      " phi3 (QConv1D)              (None, 12, 16)            256       \n",
      "                                                                 \n",
      " relu3 (QActivation)         (None, 12, 16)            0         \n",
      "                                                                 \n",
      " act_agg (QActivation)       (None, 12, 16)            0         \n",
      "                                                                 \n",
      " agg (GlobalAveragePooling1  (None, 16)                0         \n",
      " D)                                                              \n",
      "                                                                 \n",
      " rho1 (QDense)               (None, 16)                272       \n",
      "                                                                 \n",
      " relu4 (QActivation)         (None, 16)                0         \n",
      "                                                                 \n",
      " rho2 (QDense)               (None, 5)                 85        \n",
      "                                                                 \n",
      " softmax (Softmax)           (None, 5)                 0         \n",
      "                                                                 \n",
      "=================================================================\n",
      "Total params: 917 (3.58 KB)\n",
      "Trainable params: 917 (3.58 KB)\n",
      "Non-trainable params: 0 (0.00 Byte)\n",
      "_________________________________________________________________\n"
     ]
    }
   ],
   "source": [
    "phi_dim = 16\n",
    "rho_dim = 16\n",
    "\n",
    "quantizer = quantized_bits(8, 0, alpha=1)\n",
    "quantized_relu = 'quantized_relu(8, 0)'\n",
    "\n",
    "input_constituent = keras.Input(shape=(N, 3), name='phi_input')\n",
    "\n",
    "'''\n",
    "# phi network (dense)\n",
    "x = QDense(phi_dim, use_bias=True, name='phi1', kernel_quantizer=quantizer, bias_quantizer=quantizer)(input_constituent)\n",
    "x = QActivation(quantized_relu, name='relu1')(x)\n",
    "    \n",
    "x = QDense(phi_dim, use_bias=True, name='phi2', kernel_quantizer=quantizer, bias_quantizer=quantizer)(x)\n",
    "x = QActivation(quantized_relu, name='relu2')(x)\n",
    "    \n",
    "x = QDense(phi_dim, use_bias=True, name='phi3', kernel_quantizer=quantizer, bias_quantizer=quantizer)(x)\n",
    "x = QActivation(quantized_relu, name='relu3')(x)\n",
    "'''\n",
    "\n",
    "# phi network (pointwise conv1d)\n",
    "x = QConv1D(filters=phi_dim, kernel_size=1, use_bias=False, name='phi1',\n",
    "            kernel_quantizer=quantizer, bias_quantizer=quantizer)(input_constituent)\n",
    "x = QActivation(quantized_relu, name='relu1')(x)\n",
    "    \n",
    "x = QConv1D(filters=phi_dim, kernel_size=1, use_bias=False, name='phi2',\n",
    "            kernel_quantizer=quantizer, bias_quantizer=quantizer)(x)\n",
    "x = QActivation(quantized_relu, name='relu2')(x)\n",
    "    \n",
    "x = QConv1D(filters=phi_dim, kernel_size=1, use_bias=False, name='phi3',\n",
    "            kernel_quantizer=quantizer, bias_quantizer=quantizer)(x)\n",
    "x = QActivation(quantized_relu, name='relu3')(x)\n",
    "\n",
    "# permutation-invariant Aggregation\n",
    "x = QActivation(quantized_bits(20, 10, symmetric=0, keep_negative=1), name='act_agg')(x)\n",
    "x = layers.GlobalAveragePooling1D(name='agg')(x)\n",
    "\n",
    "# rho network\n",
    "x = QDense(rho_dim, use_bias=True, name='rho1', kernel_quantizer=quantizer, bias_quantizer=quantizer)(x)\n",
    "x = QActivation(quantized_relu, name='relu4')(x)\n",
    "\n",
    "x = QDense(5, use_bias=True, name='rho2', kernel_quantizer=quantizer, bias_quantizer=quantizer)(x)\n",
    "x = layers.Softmax(name='softmax')(x)\n",
    "\n",
    "#model = keras.Model(input_constituent, x, name='deepset_densePhi')\n",
    "model = keras.Model(input_constituent, x, name='deepset_pointwisePhi')\n",
    "\n",
    "model.compile(optimizer=tf.keras.optimizers.legacy.Adam(learning_rate=0.005),\n",
    "              loss='categorical_crossentropy', metrics = ['accuracy'])\n",
    "model.summary()"
   ]
  },
  {
   "cell_type": "code",
   "execution_count": 3,
   "id": "13b4fb33",
   "metadata": {},
   "outputs": [
    {
     "name": "stdout",
     "output_type": "stream",
     "text": [
      "Epoch 1/10\n",
      "3438/3438 [==============================] - 4s 987us/step - loss: 1.1381 - accuracy: 0.5509 - val_loss: 1.0803 - val_accuracy: 0.5857\n",
      "Epoch 2/10\n",
      "3438/3438 [==============================] - 3s 935us/step - loss: 1.0672 - accuracy: 0.5919 - val_loss: 1.0489 - val_accuracy: 0.6072\n",
      "Epoch 3/10\n",
      "3438/3438 [==============================] - 3s 958us/step - loss: 1.0483 - accuracy: 0.6023 - val_loss: 1.0366 - val_accuracy: 0.6122\n",
      "Epoch 4/10\n",
      "3438/3438 [==============================] - 3s 952us/step - loss: 1.0390 - accuracy: 0.6060 - val_loss: 1.0292 - val_accuracy: 0.6144\n",
      "Epoch 5/10\n",
      "3438/3438 [==============================] - 3s 947us/step - loss: 1.0313 - accuracy: 0.6099 - val_loss: 1.0350 - val_accuracy: 0.6101\n",
      "Epoch 6/10\n",
      "3438/3438 [==============================] - 3s 950us/step - loss: 1.0284 - accuracy: 0.6118 - val_loss: 1.0223 - val_accuracy: 0.6140\n",
      "Epoch 7/10\n",
      "3438/3438 [==============================] - 3s 966us/step - loss: 1.0258 - accuracy: 0.6128 - val_loss: 1.0219 - val_accuracy: 0.6178\n",
      "Epoch 8/10\n",
      "3438/3438 [==============================] - 3s 959us/step - loss: 1.0253 - accuracy: 0.6122 - val_loss: 1.0311 - val_accuracy: 0.6112\n",
      "Epoch 9/10\n",
      "3438/3438 [==============================] - 3s 987us/step - loss: 1.0227 - accuracy: 0.6137 - val_loss: 1.0327 - val_accuracy: 0.6105\n",
      "Epoch 10/10\n",
      "3438/3438 [==============================] - 3s 984us/step - loss: 1.0225 - accuracy: 0.6139 - val_loss: 1.0209 - val_accuracy: 0.6167\n"
     ]
    }
   ],
   "source": [
    "history = model.fit(X_train, Y_train,\n",
    "                    validation_data = (X_val, Y_val),\n",
    "                    epochs=10, batch_size=128)"
   ]
  },
  {
   "cell_type": "code",
   "execution_count": null,
   "id": "ea0e151b",
   "metadata": {},
   "outputs": [],
   "source": [
    "plt.figure(figsize = (15,10))\n",
    "axes = plt.subplot(2, 2, 1)\n",
    "axes.plot(history.history['loss'], label = 'train loss')\n",
    "axes.plot(history.history['val_loss'], label = 'val loss')\n",
    "axes.legend(loc = \"upper right\")\n",
    "axes.set_xlabel('Epoch')\n",
    "axes.set_ylabel('Loss')"
   ]
  },
  {
   "cell_type": "code",
   "execution_count": null,
   "id": "0e0c1ae9",
   "metadata": {},
   "outputs": [],
   "source": [
    "Y_pred = model.predict(X_test)\n",
    "print(\"Accuracy: {}\".format(accuracy_score(np.argmax(Y_test, axis=1), np.argmax(Y_pred, axis=1))))"
   ]
  },
  {
   "cell_type": "code",
   "execution_count": null,
   "id": "ef090e3e",
   "metadata": {},
   "outputs": [],
   "source": [
    "def plot_roc(y_test, y_pred, labels):\n",
    "    for x, label in enumerate(labels):        \n",
    "        fpr, tpr, _ = roc_curve(y_test[:, x], y_pred[:, x])\n",
    "        plt.plot(fpr, tpr, label='{0} tagger, AUC = {1:.1f}'.format(label, auc(fpr, tpr)*100.), linestyle='-')\n",
    "    #plt.semilogy()\n",
    "    #plt.semilogx()\n",
    "    plt.ylabel(\"Signal Efficiency\")\n",
    "    plt.xlabel(\"Background Efficiency\")\n",
    "    #plt.ylim(0.00001, 1)\n",
    "    #plt.xlim(0.00001, 1)\n",
    "    plt.grid(True)\n",
    "    plt.legend(loc='best')  \n",
    "    \n",
    "plt.figure(figsize=(4, 4))\n",
    "plot_roc(Y_test, Y_pred, ['g','q','w','z','t'])"
   ]
  },
  {
   "cell_type": "code",
   "execution_count": 4,
   "id": "6304626e-27ff-4725-af99-1bad28fa200a",
   "metadata": {},
   "outputs": [
    {
     "name": "stderr",
     "output_type": "stream",
     "text": [
      "/Users/hofungtsoi/miniforge3/envs/sparse/lib/python3.10/site-packages/keras/src/engine/training.py:3079: UserWarning: You are saving your model as an HDF5 file via `model.save()`. This file format is considered legacy. We recommend using instead the native Keras format, e.g. `model.save('my_model.keras')`.\n",
      "  saving_api.save_model(\n",
      "/Users/hofungtsoi/miniforge3/envs/sparse/lib/python3.10/site-packages/keras/src/constraints.py:365: UserWarning: The `keras.constraints.serialize()` API should only be used for objects of type `keras.constraints.Constraint`. Found an instance of type <class 'qkeras.quantizers.quantized_bits'>, which may lead to improper serialization.\n",
      "  warnings.warn(\n"
     ]
    }
   ],
   "source": [
    "model.save('model_test.h5')"
   ]
  },
  {
   "cell_type": "code",
   "execution_count": null,
   "id": "5baa3f67-f8c3-44c3-913e-370d64ecbc41",
   "metadata": {},
   "outputs": [],
   "source": [
    "model = qkeras.utils.load_qmodel('model_test.h5')"
   ]
  },
  {
   "cell_type": "code",
   "execution_count": null,
   "id": "f6a9aab3-bc83-43e7-8a97-8e6ada8abd2a",
   "metadata": {},
   "outputs": [],
   "source": [
    "Y_pred = model.predict(X_test)"
   ]
  },
  {
   "cell_type": "markdown",
   "id": "b5c14bb1-9613-47a8-9fa6-d472a339257a",
   "metadata": {},
   "source": [
    "# HLS"
   ]
  },
  {
   "cell_type": "code",
   "execution_count": null,
   "id": "4dd20987-1c5a-4796-9889-06b0b25ea136",
   "metadata": {},
   "outputs": [],
   "source": [
    "import hls4ml\n",
    "model = tf.keras.models.Sequential()\n",
    "model.add(Dense(64, input_shape=(16,), name='fc1', kernel_initializer='lecun_uniform'))\n",
    "model.add(Activation(activation='relu', name='relu1'))\n",
    "model.add(Dense(32, name='fc2', kernel_initializer='lecun_uniform'))\n",
    "model.add(Activation(activation='relu', name='relu2'))\n",
    "model.add(Dense(32, name='fc3', kernel_initializer='lecun_uniform'))\n",
    "model.add(Activation(activation='relu', name='relu3'))\n",
    "model.add(Dense(5, name='output', kernel_initializer='lecun_uniform'))\n",
    "model.add(Activation(activation='softmax', name='softmax'))\n",
    "adam = tf.keras.optimizers.Adam(0.0001)\n",
    "model.compile(optimizer=adam, loss=['categorical_crossentropy'], metrics=['accuracy'])\n",
    "model.summary()\n",
    "config = hls4ml.utils.config_from_keras_model(model, granularity='name')"
   ]
  },
  {
   "cell_type": "code",
   "execution_count": 5,
   "id": "81d11d78-ecc6-4c50-94c2-1a9796b397b9",
   "metadata": {},
   "outputs": [
    {
     "name": "stdout",
     "output_type": "stream",
     "text": [
      "Interpreting Model\n",
      "Topology:\n",
      "Layer name: phi_input, layer type: InputLayer, input shapes: [[None, 12, 3]], output shape: [None, 12, 3]\n",
      "Layer name: phi1, layer type: QConv1D, input shapes: [[None, 12, 3]], output shape: [None, 12, 16]\n",
      "Layer name: relu1, layer type: Activation, input shapes: [[None, 12, 16]], output shape: [None, 12, 16]\n",
      "Layer name: phi2, layer type: QConv1D, input shapes: [[None, 12, 16]], output shape: [None, 12, 16]\n",
      "Layer name: relu2, layer type: Activation, input shapes: [[None, 12, 16]], output shape: [None, 12, 16]\n",
      "Layer name: phi3, layer type: QConv1D, input shapes: [[None, 12, 16]], output shape: [None, 12, 16]\n",
      "Layer name: relu3, layer type: Activation, input shapes: [[None, 12, 16]], output shape: [None, 12, 16]\n",
      "Layer name: act_agg, layer type: Activation, input shapes: [[None, 12, 16]], output shape: [None, 12, 16]\n",
      "Layer name: agg, layer type: GlobalAveragePooling1D, input shapes: [[None, 12, 16]], output shape: [None, 16]\n",
      "Layer name: rho1, layer type: QDense, input shapes: [[None, 16]], output shape: [None, 16]\n",
      "Layer name: relu4, layer type: Activation, input shapes: [[None, 16]], output shape: [None, 16]\n",
      "Layer name: rho2, layer type: QDense, input shapes: [[None, 16]], output shape: [None, 5]\n",
      "Layer name: softmax, layer type: Softmax, input shapes: [[None, 5]], output shape: [None, 5]\n"
     ]
    },
    {
     "data": {
      "text/plain": [
       "{'Model': {'Precision': {'default': 'fixed<16,6>'},\n",
       "  'ReuseFactor': 1,\n",
       "  'Strategy': 'Latency',\n",
       "  'BramFactor': 1000000000,\n",
       "  'TraceOutput': False},\n",
       " 'LayerName': {'phi_input': {'Trace': False,\n",
       "   'Precision': 'ap_fixed<12, 4, AP_RND, AP_SAT>'},\n",
       "  'phi1': {'Trace': False,\n",
       "   'Precision': {'result': 'auto',\n",
       "    'weight': 'fixed<8,1,TRN,WRAP,0>',\n",
       "    'bias': 'fixed<8,1,TRN,WRAP,0>'}},\n",
       "  'phi1_linear': {'Trace': False, 'Precision': {'result': 'auto'}},\n",
       "  'relu1': {'Trace': False,\n",
       "   'Precision': {'result': 'ufixed<8,0,RND_CONV,SAT,0>'}},\n",
       "  'phi2': {'Trace': False,\n",
       "   'Precision': {'result': 'auto',\n",
       "    'weight': 'fixed<8,1,TRN,WRAP,0>',\n",
       "    'bias': 'fixed<8,1,TRN,WRAP,0>'}},\n",
       "  'phi2_linear': {'Trace': False, 'Precision': {'result': 'auto'}},\n",
       "  'relu2': {'Trace': False,\n",
       "   'Precision': {'result': 'ufixed<8,0,RND_CONV,SAT,0>'}},\n",
       "  'phi3': {'Trace': False,\n",
       "   'Precision': {'result': 'auto',\n",
       "    'weight': 'fixed<8,1,TRN,WRAP,0>',\n",
       "    'bias': 'fixed<8,1,TRN,WRAP,0>'}},\n",
       "  'phi3_linear': {'Trace': False, 'Precision': {'result': 'auto'}},\n",
       "  'relu3': {'Trace': False,\n",
       "   'Precision': {'result': 'ufixed<8,0,RND_CONV,SAT,0>'}},\n",
       "  'act_agg': {'Trace': False,\n",
       "   'Precision': {'result': 'fixed<20,11,RND_CONV,SAT,0>'}},\n",
       "  'agg': {'Trace': False, 'Precision': {'result': 'auto'}},\n",
       "  'rho1': {'Trace': False,\n",
       "   'Precision': {'result': 'auto',\n",
       "    'weight': 'fixed<8,1,TRN,WRAP,0>',\n",
       "    'bias': 'fixed<8,1,TRN,WRAP,0>'}},\n",
       "  'rho1_linear': {'Trace': False, 'Precision': {'result': 'auto'}},\n",
       "  'relu4': {'Trace': False,\n",
       "   'Precision': {'result': 'ufixed<8,0,RND_CONV,SAT,0>'}},\n",
       "  'rho2': {'Trace': False,\n",
       "   'Precision': {'result': 'auto',\n",
       "    'weight': 'fixed<8,1,TRN,WRAP,0>',\n",
       "    'bias': 'fixed<8,1,TRN,WRAP,0>'}},\n",
       "  'rho2_linear': {'Trace': False, 'Precision': {'result': 'auto'}},\n",
       "  'softmax': {'Trace': False, 'Precision': {'result': 'auto'}}}}"
      ]
     },
     "execution_count": 5,
     "metadata": {},
     "output_type": "execute_result"
    }
   ],
   "source": [
    "#model = tf.keras.models.load_model('model-pointwisePhi.keras')\n",
    "#model = tf.keras.models.load_model('model-densePhi.keras')\n",
    "\n",
    "config = hls4ml.utils.config_from_keras_model(model, granularity='name')\n",
    "\n",
    "config['Model']['Strategy'] = 'Latency'\n",
    "config['LayerName']['phi_input']['Precision'] = 'ap_fixed<12, 4, AP_RND, AP_SAT>'\n",
    "\n",
    "# for dense Phi\n",
    "if False:\n",
    "    config['LayerName']['phi1']['ParallelizationFactor'] = 1\n",
    "    config['LayerName']['phi1']['ReuseFactor'] = 8\n",
    "    config['LayerName']['phi1']['Strategy'] = 'Latency'\n",
    "    #config['LayerName']['phi1']['ConvImplementation'] = 'Pointwise'\n",
    "    \n",
    "    config['LayerName']['phi2']['ParallelizationFactor'] = 1\n",
    "    config['LayerName']['phi2']['ReuseFactor'] = 8\n",
    "    config['LayerName']['phi2']['Strategy'] = 'Latency'\n",
    "    #config['LayerName']['phi2']['ConvImplementation'] = 'Pointwise'\n",
    "    \n",
    "    config['LayerName']['phi3']['ParallelizationFactor'] = 1\n",
    "    config['LayerName']['phi3']['ReuseFactor'] = 8\n",
    "    config['LayerName']['phi3']['Strategy'] = 'Latency'\n",
    "    #config['LayerName']['phi3']['ConvImplementation'] = 'Pointwise'\n",
    "\n",
    "config"
   ]
  },
  {
   "cell_type": "code",
   "execution_count": 6,
   "id": "08c7756a-62b6-40af-8d86-04c694965727",
   "metadata": {},
   "outputs": [
    {
     "name": "stdout",
     "output_type": "stream",
     "text": [
      "Interpreting Model\n",
      "Topology:\n",
      "Layer name: phi_input, layer type: InputLayer, input shapes: [[None, 12, 3]], output shape: [None, 12, 3]\n",
      "Layer name: phi1, layer type: QConv1D, input shapes: [[None, 12, 3]], output shape: [None, 12, 16]\n",
      "Layer name: relu1, layer type: Activation, input shapes: [[None, 12, 16]], output shape: [None, 12, 16]\n",
      "Layer name: phi2, layer type: QConv1D, input shapes: [[None, 12, 16]], output shape: [None, 12, 16]\n",
      "Layer name: relu2, layer type: Activation, input shapes: [[None, 12, 16]], output shape: [None, 12, 16]\n",
      "Layer name: phi3, layer type: QConv1D, input shapes: [[None, 12, 16]], output shape: [None, 12, 16]\n",
      "Layer name: relu3, layer type: Activation, input shapes: [[None, 12, 16]], output shape: [None, 12, 16]\n",
      "Layer name: act_agg, layer type: Activation, input shapes: [[None, 12, 16]], output shape: [None, 12, 16]\n",
      "Layer name: agg, layer type: GlobalAveragePooling1D, input shapes: [[None, 12, 16]], output shape: [None, 16]\n",
      "Layer name: rho1, layer type: QDense, input shapes: [[None, 16]], output shape: [None, 16]\n",
      "Layer name: relu4, layer type: Activation, input shapes: [[None, 16]], output shape: [None, 16]\n",
      "Layer name: rho2, layer type: QDense, input shapes: [[None, 16]], output shape: [None, 5]\n",
      "Layer name: softmax, layer type: Softmax, input shapes: [[None, 5]], output shape: [None, 5]\n",
      "Creating HLS model\n",
      "Writing HLS project\n",
      "Done\n",
      "Writing HLS project\n",
      "Done\n"
     ]
    }
   ],
   "source": [
    "hls_model = hls4ml.converters.convert_from_keras_model(\n",
    "    model,\n",
    "    hls_config=config,\n",
    "    #project_name='hls_deepset_pointwisePhi_iostream_mod',\n",
    "    #output_dir='hls_deepset_pointwisePhi_iostream_mod',\n",
    "    project_name='model_test',\n",
    "    output_dir='model_test',\n",
    "    part='xcvu13p-flga2577-2-e',\n",
    "    io_type='io_parallel',\n",
    ")\n",
    "\n",
    "hls_model.compile()\n",
    "hls_model.write()"
   ]
  },
  {
   "cell_type": "code",
   "execution_count": null,
   "id": "0d3b7fab-db65-4e61-946d-13c1c1d2f27f",
   "metadata": {},
   "outputs": [],
   "source": [
    "Y_hls_pred = hls_model.predict(X_test)\n",
    "print(\"Accuracy: {}\".format(accuracy_score(np.argmax(Y_test, axis=1), np.argmax(Y_hls_pred, axis=1))))"
   ]
  },
  {
   "cell_type": "code",
   "execution_count": null,
   "id": "2427e244-1b99-4672-87f4-c8ce09ee7505",
   "metadata": {},
   "outputs": [],
   "source": [
    "plt.figure(figsize=(4, 4))\n",
    "plot_roc(Y_test, Y_hls_pred, ['g','q','w','z','t'])"
   ]
  },
  {
   "cell_type": "code",
   "execution_count": null,
   "id": "3da09384-6557-401c-a756-ec0c2282ffa7",
   "metadata": {},
   "outputs": [],
   "source": [
    "del hls_model, config"
   ]
  },
  {
   "cell_type": "code",
   "execution_count": null,
   "id": "c7d7f4ca-eae3-449f-a5c2-4454fa8e8b1d",
   "metadata": {},
   "outputs": [],
   "source": []
  },
  {
   "cell_type": "markdown",
   "id": "f3d8d7fc-064b-47b9-9588-b49ce41cc72c",
   "metadata": {},
   "source": [
    "# test bench"
   ]
  },
  {
   "cell_type": "code",
   "execution_count": 7,
   "id": "34c41fd1-263f-4951-bdf0-5de6974b2f7b",
   "metadata": {},
   "outputs": [
    {
     "data": {
      "text/plain": [
       "(352000, 12, 3)"
      ]
     },
     "execution_count": 7,
     "metadata": {},
     "output_type": "execute_result"
    }
   ],
   "source": [
    "X_test.shape"
   ]
  },
  {
   "cell_type": "code",
   "execution_count": 8,
   "id": "3437ac33-296e-4b88-89a1-315203103a15",
   "metadata": {},
   "outputs": [],
   "source": [
    "np.random.seed(42)\n",
    "arr = np.random.rand(5, 12, 3) - 0.5\n",
    "arr = arr*2"
   ]
  },
  {
   "cell_type": "code",
   "execution_count": 9,
   "id": "b2c6405f-de5e-4500-92e5-6b76e55b31fd",
   "metadata": {},
   "outputs": [],
   "source": [
    "arr[1, :2, :] = 0\n",
    "arr[2, 2:6, :] = 0\n",
    "arr[3, 4:10, :] = 0\n",
    "arr[4, 4:12, :] = 0"
   ]
  },
  {
   "cell_type": "code",
   "execution_count": 10,
   "id": "344713bd-e25f-46b3-bfd3-d6ce6d32df57",
   "metadata": {},
   "outputs": [
    {
     "data": {
      "text/plain": [
       "array([[[-0.25091976,  0.90142861,  0.46398788],\n",
       "        [ 0.19731697, -0.68796272, -0.68801096],\n",
       "        [-0.88383278,  0.73235229,  0.20223002],\n",
       "        [ 0.41614516, -0.95883101,  0.9398197 ],\n",
       "        [ 0.66488528, -0.57532178, -0.63635007],\n",
       "        [-0.63319098, -0.39151551,  0.04951286],\n",
       "        [-0.13610996, -0.41754172,  0.22370579],\n",
       "        [-0.72101228, -0.4157107 , -0.26727631],\n",
       "        [-0.08786003,  0.57035192, -0.60065244],\n",
       "        [ 0.02846888,  0.18482914, -0.90709917],\n",
       "        [ 0.2150897 , -0.65895175, -0.86989681],\n",
       "        [ 0.89777107,  0.93126407,  0.6167947 ]],\n",
       "\n",
       "       [[ 0.        ,  0.        ,  0.        ],\n",
       "        [ 0.        ,  0.        ,  0.        ],\n",
       "        [-0.93122296,  0.8186408 , -0.48244004],\n",
       "        [ 0.32504457, -0.37657785,  0.04013604],\n",
       "        [ 0.09342056, -0.63029109,  0.93916926],\n",
       "        [ 0.55026565,  0.87899788,  0.7896547 ],\n",
       "        [ 0.19579996,  0.84374847, -0.823015  ],\n",
       "        [-0.60803428, -0.90954542, -0.34933934],\n",
       "        [-0.22264542, -0.45730194,  0.65747502],\n",
       "        [-0.28649335, -0.43813098,  0.08539217],\n",
       "        [-0.71815155,  0.60439396, -0.85089871],\n",
       "        [ 0.97377387,  0.54448954, -0.60256864]],\n",
       "\n",
       "       [[-0.98895577,  0.63092286,  0.41371469],\n",
       "        [ 0.45801434,  0.54254069, -0.8519107 ],\n",
       "        [ 0.        ,  0.        ,  0.        ],\n",
       "        [ 0.        ,  0.        ,  0.        ],\n",
       "        [ 0.        ,  0.        ,  0.        ],\n",
       "        [ 0.        ,  0.        ,  0.        ],\n",
       "        [-0.76081151,  0.42648957,  0.5215701 ],\n",
       "        [ 0.1225544 ,  0.54193436, -0.01240881],\n",
       "        [ 0.04546566, -0.14491796, -0.94916175],\n",
       "        [-0.78421715, -0.93714163,  0.27282082],\n",
       "        [-0.37128804,  0.01714138,  0.81513295],\n",
       "        [-0.50141554, -0.17923415,  0.51110228]],\n",
       "\n",
       "       [[-0.54240367, -0.84604018, -0.42049709],\n",
       "        [-0.67755743,  0.8593953 ,  0.61624076],\n",
       "        [ 0.26680751,  0.74292118,  0.60734415],\n",
       "        [-0.62685988,  0.785118  ,  0.07868448],\n",
       "        [ 0.        ,  0.        ,  0.        ],\n",
       "        [ 0.        ,  0.        ,  0.        ],\n",
       "        [ 0.        ,  0.        ,  0.        ],\n",
       "        [ 0.        ,  0.        ,  0.        ],\n",
       "        [ 0.        ,  0.        ,  0.        ],\n",
       "        [ 0.        ,  0.        ,  0.        ],\n",
       "        [-0.2727408 ,  0.94356417,  0.92489459],\n",
       "        [-0.49643541, -0.00550299, -0.39824338]],\n",
       "\n",
       "       [[-0.43031901, -0.92622611,  0.21912867],\n",
       "        [ 0.00535805, -0.8970425 , -0.44270707],\n",
       "        [ 0.81653177, -0.52087622, -0.71021026],\n",
       "        [-0.02109448,  0.97130091, -0.51588946],\n",
       "        [ 0.        ,  0.        ,  0.        ],\n",
       "        [ 0.        ,  0.        ,  0.        ],\n",
       "        [ 0.        ,  0.        ,  0.        ],\n",
       "        [ 0.        ,  0.        ,  0.        ],\n",
       "        [ 0.        ,  0.        ,  0.        ],\n",
       "        [ 0.        ,  0.        ,  0.        ],\n",
       "        [ 0.        ,  0.        ,  0.        ],\n",
       "        [ 0.        ,  0.        ,  0.        ]]])"
      ]
     },
     "execution_count": 10,
     "metadata": {},
     "output_type": "execute_result"
    }
   ],
   "source": [
    "arr"
   ]
  },
  {
   "cell_type": "code",
   "execution_count": 11,
   "id": "3907c692-0a1c-468c-af01-b9de782d0c40",
   "metadata": {},
   "outputs": [
    {
     "name": "stdout",
     "output_type": "stream",
     "text": [
      "1/1 [==============================] - 0s 130ms/step\n"
     ]
    },
    {
     "data": {
      "text/plain": [
       "array([[0.08588919, 0.21524116, 0.00172805, 0.0370794 , 0.6600622 ],\n",
       "       [0.08913656, 0.22337918, 0.00165911, 0.03821217, 0.647613  ],\n",
       "       [0.09641033, 0.34412783, 0.00437231, 0.2795606 , 0.27552894],\n",
       "       [0.03970742, 0.3680402 , 0.28003296, 0.27032608, 0.04189334],\n",
       "       [0.11885367, 0.29553336, 0.0011704 , 0.04794361, 0.53649896]],\n",
       "      dtype=float32)"
      ]
     },
     "execution_count": 11,
     "metadata": {},
     "output_type": "execute_result"
    }
   ],
   "source": [
    "Y_arr = model.predict(arr)\n",
    "Y_arr"
   ]
  },
  {
   "cell_type": "code",
   "execution_count": 12,
   "id": "be06041d-3956-4f4a-b21d-7ec0f571f7d1",
   "metadata": {},
   "outputs": [
    {
     "data": {
      "text/plain": [
       "array([[0.08398438, 0.21582031, 0.00195312, 0.03515625, 0.66699219],\n",
       "       [0.08984375, 0.21582031, 0.00195312, 0.03710938, 0.66699219],\n",
       "       [0.09765625, 0.36328125, 0.00488281, 0.30078125, 0.28222656],\n",
       "       [0.04199219, 0.40039062, 0.29199219, 0.2578125 , 0.04199219],\n",
       "       [0.11914062, 0.30566406, 0.00097656, 0.04882812, 0.57128906]])"
      ]
     },
     "execution_count": 12,
     "metadata": {},
     "output_type": "execute_result"
    }
   ],
   "source": [
    "Y_hls_arr = hls_model.predict(arr)\n",
    "Y_hls_arr"
   ]
  },
  {
   "cell_type": "code",
   "execution_count": 13,
   "id": "6fd9a5d5-f54d-402d-83d0-ea198ecaacf8",
   "metadata": {},
   "outputs": [],
   "source": [
    "arr = arr.reshape(-1, np.prod(arr.shape[1:]))"
   ]
  },
  {
   "cell_type": "code",
   "execution_count": 14,
   "id": "c2dcda30-9763-4edf-85ea-d787a96d4469",
   "metadata": {},
   "outputs": [],
   "source": [
    "with open('model_test/tb_data/tb_input_features.dat', 'w') as my_file:\n",
    "    for sample in arr:\n",
    "        my_file.write(' '.join(str(x) for x in sample))\n",
    "        my_file.write('\\n')\n",
    "\n",
    "with open('model_test/tb_data/tb_output_predictions.dat', 'w') as my_file:\n",
    "    for sample in Y_hls_arr.reshape(-1, np.prod(Y_hls_arr.shape[1:])):\n",
    "        my_file.write(' '.join(str(x) for x in sample))\n",
    "        my_file.write('\\n')"
   ]
  },
  {
   "cell_type": "code",
   "execution_count": null,
   "id": "4324e054-014c-4e0e-b2d2-32e3b43ca9e3",
   "metadata": {},
   "outputs": [],
   "source": []
  }
 ],
 "metadata": {
  "kernelspec": {
   "display_name": "Python 3 (ipykernel)",
   "language": "python",
   "name": "python3"
  },
  "language_info": {
   "codemirror_mode": {
    "name": "ipython",
    "version": 3
   },
   "file_extension": ".py",
   "mimetype": "text/x-python",
   "name": "python",
   "nbconvert_exporter": "python",
   "pygments_lexer": "ipython3",
   "version": "3.10.5"
  }
 },
 "nbformat": 4,
 "nbformat_minor": 5
}
