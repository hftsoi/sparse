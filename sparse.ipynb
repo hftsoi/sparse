{
 "cells": [
  {
   "cell_type": "code",
   "execution_count": 1,
   "id": "2d8d66e2",
   "metadata": {},
   "outputs": [],
   "source": [
    "import h5py\n",
    "import glob\n",
    "import numpy as np\n",
    "import pandas as pd\n",
    "import tensorflow as tf\n",
    "import matplotlib.pyplot as plt\n",
    "import seaborn as sns\n",
    "from sklearn.model_selection import train_test_split\n",
    "from sklearn.preprocessing import StandardScaler\n",
    "from tensorflow.keras.layers import *\n",
    "from tensorflow import keras\n",
    "from tensorflow.keras import layers, models, Model\n",
    "from sklearn.metrics import roc_curve, auc\n",
    "import tensorflow.keras.backend as K\n",
    "import joblib\n",
    "\n",
    "# compute a mask per event, and attach vec(0) for the first MLP output for those masked\n",
    "# so S and pho steps are unchanged, but skipping first MLP computations\n",
    "# the total dim N * D is still the same after the first MLP (those zero constituents are skipping phi)\n",
    "# --> for zero-padded constituents, directly make D-dim zeros for them after the first MLP\n",
    "# make a route:\n",
    "# if mask == 0:\n",
    "#     pass to first MLP\n",
    "# else:\n",
    "#     make D-dim zeros"
   ]
  },
  {
   "cell_type": "code",
   "execution_count": 66,
   "id": "e76bc596",
   "metadata": {},
   "outputs": [],
   "source": [
    "'''\n",
    "['jetConstituentList',\n",
    " 'jetFeatureNames', 59 (g,q,w,z,t = -6:-1)\n",
    " 'jetImage',\n",
    " 'jetImageECAL',\n",
    " 'jetImageHCAL',\n",
    " 'jets', 59\n",
    " 'particleFeatureNames'] 17 (pt = 5, etarel = 8, phirel = 11)\n",
    "'''\n",
    "h5_files = glob.glob('val/jetImage*.h5') + glob.glob('train/jetImage*.h5')\n",
    "x = []\n",
    "y = []\n",
    "\n",
    "for h5_file in h5_files:\n",
    "    with h5py.File(h5_file, 'r') as f:\n",
    "        x.append(f['jetConstituentList'][:, :, [5, 8, 11]])\n",
    "        y.append(f['jets'][:, -6:-1])\n",
    "        \n",
    "x = np.concatenate(x, axis = 0)\n",
    "y = np.concatenate(y, axis = 0)\n",
    "\n",
    "with h5py.File('data.h5', 'w') as f:\n",
    "    f.create_dataset('x', data=x)\n",
    "    f.create_dataset('y', data=y)"
   ]
  },
  {
   "cell_type": "code",
   "execution_count": 2,
   "id": "271bb6d0",
   "metadata": {},
   "outputs": [
    {
     "name": "stdout",
     "output_type": "stream",
     "text": [
      "X_train shape: (528000, 32, 3)\n",
      "X_val   shape: (176000, 32, 3)\n",
      "X_test  shape: (176000, 32, 3)\n"
     ]
    }
   ],
   "source": [
    "with h5py.File('data.h5', 'r') as f:\n",
    "    x = f['x'][:, :32, :]\n",
    "    y = f['y'][:]\n",
    "    \n",
    "x[x[:, :, 0] < 2] = 0\n",
    "\n",
    "q5 = np.percentile(x[:, :, 0], 5)\n",
    "q95 = np.percentile(x[:, :, 0], 95)\n",
    "x[:, :, 0] = (x[:, :, 0] - q5) / (q95 - q5)\n",
    "\n",
    "train_ratio = 0.6\n",
    "val_ratio = 0.2\n",
    "test_ratio = 1 - train_ratio - val_ratio\n",
    "X_train_val, X_test = train_test_split(x, test_size = test_ratio, random_state = 42)\n",
    "X_train, X_val = train_test_split(X_train_val, test_size = val_ratio/(val_ratio + train_ratio), random_state = 42)\n",
    "print('X_train shape: ' + str(X_train.shape))\n",
    "print('X_val   shape: ' + str(X_val.shape))\n",
    "print('X_test  shape: ' + str(X_test.shape))\n",
    "del X_train_val"
   ]
  },
  {
   "cell_type": "code",
   "execution_count": null,
   "id": "27f864d0",
   "metadata": {},
   "outputs": [],
   "source": []
  },
  {
   "cell_type": "code",
   "execution_count": null,
   "id": "f5f2f317",
   "metadata": {},
   "outputs": [],
   "source": []
  },
  {
   "cell_type": "code",
   "execution_count": null,
   "id": "7d2e2d8f",
   "metadata": {},
   "outputs": [],
   "source": []
  },
  {
   "cell_type": "code",
   "execution_count": null,
   "id": "adcec834",
   "metadata": {},
   "outputs": [],
   "source": []
  }
 ],
 "metadata": {
  "kernelspec": {
   "display_name": "Python 3 (ipykernel)",
   "language": "python",
   "name": "python3"
  },
  "language_info": {
   "codemirror_mode": {
    "name": "ipython",
    "version": 3
   },
   "file_extension": ".py",
   "mimetype": "text/x-python",
   "name": "python",
   "nbconvert_exporter": "python",
   "pygments_lexer": "ipython3",
   "version": "3.9.18"
  }
 },
 "nbformat": 4,
 "nbformat_minor": 5
}
