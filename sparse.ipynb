{
 "cells": [
  {
   "cell_type": "code",
   "execution_count": null,
   "id": "c816cda9",
   "metadata": {},
   "outputs": [],
   "source": [
    "import h5py\n",
    "import glob\n",
    "import numpy as np\n",
    "import pandas as pd\n",
    "import tensorflow as tf\n",
    "import matplotlib.pyplot as plt\n",
    "from sklearn.model_selection import train_test_split\n",
    "from sklearn.metrics import roc_curve, auc, accuracy_score\n",
    "from sklearn.preprocessing import StandardScaler\n",
    "from tensorflow.keras.layers import *\n",
    "from tensorflow import keras\n",
    "from tensorflow.keras import layers, models, Model\n",
    "from sklearn.metrics import roc_curve, auc\n",
    "import tensorflow.keras.backend as K\n",
    "import qkeras\n",
    "from qkeras import *\n",
    "\n",
    "np.random.seed(42)\n",
    "tf.random.set_seed(42)\n",
    "\n",
    "# truncate input with max number of constituents per jet\n",
    "N = 16\n",
    "\n",
    "with h5py.File('data.h5', 'r') as f:\n",
    "    x = f['x'][:, :N, :]\n",
    "    y = f['y'][:]\n",
    "\n",
    "# min pt cut on jet constituents\n",
    "x[x[:, :, 0] < 2] = 0\n",
    "\n",
    "non_zero_counts = np.sum(np.any(x == 0, axis=(2)), axis=1)\n",
    "plt.figure(figsize=(8, 6))\n",
    "plt.hist(non_zero_counts, bins=range(0, N+2), edgecolor='black', alpha=0.5)\n",
    "plt.xlabel(f\"Number of zero-padded constituents per jet (max {N} constituents considered per jet)\")\n",
    "plt.ylabel(\"Count of jets\")\n",
    "plt.yscale(\"log\")\n",
    "plt.show()\n",
    "\n",
    "# normalization of the pt feature by interquantile range\n",
    "q5 = np.percentile(x[:, :, 0], 5)\n",
    "q95 = np.percentile(x[:, :, 0], 95)\n",
    "x[:, :, 0] = (x[:, :, 0] - 0) / (q95 - q5)\n",
    "\n",
    "train_ratio = 0.5\n",
    "val_ratio = 0.1\n",
    "test_ratio = 1 - train_ratio - val_ratio\n",
    "X_train_val, X_test, Y_train_val, Y_test = train_test_split(x, y, test_size = test_ratio, random_state = 42)\n",
    "X_train, X_val, Y_train, Y_val = train_test_split(X_train_val, Y_train_val, test_size = val_ratio/(val_ratio + train_ratio), random_state = 42)\n",
    "print('X_train shape: ' + str(X_train.shape))\n",
    "print('X_val   shape: ' + str(X_val.shape))\n",
    "print('X_test  shape: ' + str(X_test.shape))\n",
    "print('Y_train shape: ' + str(Y_train.shape))\n",
    "print('Y_val   shape: ' + str(Y_val.shape))\n",
    "print('Y_test  shape: ' + str(Y_test.shape))\n",
    "del X_train_val, Y_train_val"
   ]
  },
  {
   "cell_type": "code",
   "execution_count": null,
   "id": "bbe7c08e-06b0-44b4-9b63-45ed32742d27",
   "metadata": {},
   "outputs": [],
   "source": [
    "phi_dim = 32\n",
    "rho_dim = 32\n",
    "\n",
    "quantizer = quantized_bits(8, 0, alpha=1)\n",
    "quantized_relu = 'quantized_relu(8, 0)'\n",
    "\n",
    "input_constituent = keras.Input(shape=(N, 3), name='phi_input')\n",
    "\n",
    "'''\n",
    "# phi network (dense)\n",
    "x = QDense(phi_dim, use_bias=True, name='phi1', kernel_quantizer=quantizer, bias_quantizer=quantizer)(input_constituent)\n",
    "x = QActivation(quantized_relu, name='relu1')(x)\n",
    "    \n",
    "x = QDense(phi_dim, use_bias=True, name='phi2', kernel_quantizer=quantizer, bias_quantizer=quantizer)(x)\n",
    "x = QActivation(quantized_relu, name='relu2')(x)\n",
    "    \n",
    "x = QDense(phi_dim, use_bias=True, name='phi3', kernel_quantizer=quantizer, bias_quantizer=quantizer)(x)\n",
    "x = QActivation(quantized_relu, name='relu3')(x)\n",
    "'''\n",
    "\n",
    "# phi network (pointwise conv1d)\n",
    "x = QConv1D(filters=phi_dim, kernel_size=1, use_bias=True, name='phi1',\n",
    "            kernel_quantizer=quantizer, bias_quantizer=quantizer)(input_constituent)\n",
    "x = QActivation(quantized_relu, name='relu1')(x)\n",
    "    \n",
    "x = QConv1D(filters=phi_dim, kernel_size=1, use_bias=True, name='phi2',\n",
    "            kernel_quantizer=quantizer, bias_quantizer=quantizer)(x)\n",
    "x = QActivation(quantized_relu, name='relu2')(x)\n",
    "    \n",
    "x = QConv1D(filters=phi_dim, kernel_size=1, use_bias=True, name='phi3',\n",
    "            kernel_quantizer=quantizer, bias_quantizer=quantizer)(x)\n",
    "x = QActivation(quantized_relu, name='relu3')(x)\n",
    "\n",
    "# permutation-invariant Aggregation\n",
    "x = QActivation(quantized_bits(20, 10, symmetric=0, keep_negative=1), name='act_agg')(x)\n",
    "x = layers.GlobalAveragePooling1D(name='agg')(x)\n",
    "\n",
    "# rho network\n",
    "x = QDense(rho_dim, use_bias=True, name='rho1', kernel_quantizer=quantizer, bias_quantizer=quantizer)(x)\n",
    "x = QActivation(quantized_relu, name='relu4')(x)\n",
    "\n",
    "x = QDense(5, use_bias=True, name='rho2', kernel_quantizer=quantizer, bias_quantizer=quantizer)(x)\n",
    "x = layers.Softmax(name='softmax')(x)\n",
    "\n",
    "#model = keras.Model(input_constituent, x, name='deepset_densePhi')\n",
    "model = keras.Model(input_constituent, x, name='deepset_pointwisePhi')\n",
    "\n",
    "model.compile(optimizer=tf.keras.optimizers.legacy.Adam(learning_rate=0.005),\n",
    "              loss='categorical_crossentropy', metrics = ['accuracy'])\n",
    "model.summary()"
   ]
  },
  {
   "cell_type": "code",
   "execution_count": null,
   "id": "13b4fb33",
   "metadata": {},
   "outputs": [],
   "source": [
    "history = model.fit(X_train, Y_train,\n",
    "                    validation_data = (X_val, Y_val),\n",
    "                    epochs=10, batch_size=128)"
   ]
  },
  {
   "cell_type": "code",
   "execution_count": null,
   "id": "ea0e151b",
   "metadata": {},
   "outputs": [],
   "source": [
    "plt.figure(figsize = (15,10))\n",
    "axes = plt.subplot(2, 2, 1)\n",
    "axes.plot(history.history['loss'], label = 'train loss')\n",
    "axes.plot(history.history['val_loss'], label = 'val loss')\n",
    "axes.legend(loc = \"upper right\")\n",
    "axes.set_xlabel('Epoch')\n",
    "axes.set_ylabel('Loss')"
   ]
  },
  {
   "cell_type": "code",
   "execution_count": null,
   "id": "0e0c1ae9",
   "metadata": {},
   "outputs": [],
   "source": [
    "Y_pred = model.predict(X_test)\n",
    "print(\"Accuracy: {}\".format(accuracy_score(np.argmax(Y_test, axis=1), np.argmax(Y_pred, axis=1))))"
   ]
  },
  {
   "cell_type": "code",
   "execution_count": null,
   "id": "ef090e3e",
   "metadata": {},
   "outputs": [],
   "source": [
    "def plot_roc(y_test, y_pred, labels):\n",
    "    for x, label in enumerate(labels):        \n",
    "        fpr, tpr, _ = roc_curve(y_test[:, x], y_pred[:, x])\n",
    "        plt.plot(fpr, tpr, label='{0} tagger, AUC = {1:.1f}'.format(label, auc(fpr, tpr)*100.), linestyle='-')\n",
    "    #plt.semilogy()\n",
    "    #plt.semilogx()\n",
    "    plt.ylabel(\"Signal Efficiency\")\n",
    "    plt.xlabel(\"Background Efficiency\")\n",
    "    #plt.ylim(0.00001, 1)\n",
    "    #plt.xlim(0.00001, 1)\n",
    "    plt.grid(True)\n",
    "    plt.legend(loc='best')  \n",
    "    \n",
    "plt.figure(figsize=(4, 4))\n",
    "plot_roc(Y_test, Y_pred, ['g','q','w','z','t'])"
   ]
  },
  {
   "cell_type": "code",
   "execution_count": null,
   "id": "6304626e-27ff-4725-af99-1bad28fa200a",
   "metadata": {},
   "outputs": [],
   "source": [
    "model.save('model-pointwisePhi.keras')\n",
    "#model.save('model-densePhi.h5')"
   ]
  },
  {
   "cell_type": "code",
   "execution_count": null,
   "id": "5baa3f67-f8c3-44c3-913e-370d64ecbc41",
   "metadata": {},
   "outputs": [],
   "source": [
    "model = tf.keras.models.load_model('model-pointwisePhi.keras')\n",
    "#model = tf.keras.models.load_model('model-densePhi.h5')"
   ]
  },
  {
   "cell_type": "code",
   "execution_count": null,
   "id": "f6a9aab3-bc83-43e7-8a97-8e6ada8abd2a",
   "metadata": {},
   "outputs": [],
   "source": [
    "Y_pred = model.predict(X_test)"
   ]
  },
  {
   "cell_type": "markdown",
   "id": "b5c14bb1-9613-47a8-9fa6-d472a339257a",
   "metadata": {},
   "source": [
    "# HLS"
   ]
  },
  {
   "cell_type": "code",
   "execution_count": null,
   "id": "4dd20987-1c5a-4796-9889-06b0b25ea136",
   "metadata": {},
   "outputs": [],
   "source": [
    "import hls4ml\n",
    "model = tf.keras.models.Sequential()\n",
    "model.add(Dense(64, input_shape=(16,), name='fc1', kernel_initializer='lecun_uniform'))\n",
    "model.add(Activation(activation='relu', name='relu1'))\n",
    "model.add(Dense(32, name='fc2', kernel_initializer='lecun_uniform'))\n",
    "model.add(Activation(activation='relu', name='relu2'))\n",
    "model.add(Dense(32, name='fc3', kernel_initializer='lecun_uniform'))\n",
    "model.add(Activation(activation='relu', name='relu3'))\n",
    "model.add(Dense(5, name='output', kernel_initializer='lecun_uniform'))\n",
    "model.add(Activation(activation='softmax', name='softmax'))\n",
    "adam = tf.keras.optimizers.Adam(0.0001)\n",
    "model.compile(optimizer=adam, loss=['categorical_crossentropy'], metrics=['accuracy'])\n",
    "model.summary()\n",
    "config = hls4ml.utils.config_from_keras_model(model, granularity='name')"
   ]
  },
  {
   "cell_type": "code",
   "execution_count": null,
   "id": "81d11d78-ecc6-4c50-94c2-1a9796b397b9",
   "metadata": {},
   "outputs": [],
   "source": [
    "import hls4ml\n",
    "#model = tf.keras.models.load_model('model-pointwisePhi.keras')\n",
    "#model = tf.keras.models.load_model('model-densePhi.keras')\n",
    "\n",
    "config = hls4ml.utils.config_from_keras_model(model, granularity='name')\n",
    "\n",
    "config['Model']['Strategy'] = 'Latency'\n",
    "config['LayerName']['phi_input']['Precision'] = 'ap_fixed<12, 4, AP_RND, AP_SAT>'\n",
    "\n",
    "# for dense Phi\n",
    "if False:\n",
    "    config['LayerName']['phi1']['ParallelizationFactor'] = 1\n",
    "    config['LayerName']['phi1']['ReuseFactor'] = 8\n",
    "    config['LayerName']['phi1']['Strategy'] = 'Latency'\n",
    "    #config['LayerName']['phi1']['ConvImplementation'] = 'Pointwise'\n",
    "    \n",
    "    config['LayerName']['phi2']['ParallelizationFactor'] = 1\n",
    "    config['LayerName']['phi2']['ReuseFactor'] = 8\n",
    "    config['LayerName']['phi2']['Strategy'] = 'Latency'\n",
    "    #config['LayerName']['phi2']['ConvImplementation'] = 'Pointwise'\n",
    "    \n",
    "    config['LayerName']['phi3']['ParallelizationFactor'] = 1\n",
    "    config['LayerName']['phi3']['ReuseFactor'] = 8\n",
    "    config['LayerName']['phi3']['Strategy'] = 'Latency'\n",
    "    #config['LayerName']['phi3']['ConvImplementation'] = 'Pointwise'\n",
    "\n",
    "config"
   ]
  },
  {
   "cell_type": "code",
   "execution_count": null,
   "id": "08c7756a-62b6-40af-8d86-04c694965727",
   "metadata": {},
   "outputs": [],
   "source": [
    "hls_model = hls4ml.converters.convert_from_keras_model(\n",
    "    model,\n",
    "    hls_config=config,\n",
    "    project_name='hls_deepset_pointwisePhi_ioparallel',\n",
    "    output_dir='hls_deepset_pointwisePhi_ioparallel',\n",
    "    part='xcvu13p-flga2577-2-e',\n",
    "    io_type='io_parallel',\n",
    ")\n",
    "\n",
    "hls_model.compile()\n",
    "hls_model.write()"
   ]
  },
  {
   "cell_type": "code",
   "execution_count": null,
   "id": "0d3b7fab-db65-4e61-946d-13c1c1d2f27f",
   "metadata": {},
   "outputs": [],
   "source": [
    "Y_hls_pred = hls_model.predict(X_test)\n",
    "print(\"Accuracy: {}\".format(accuracy_score(np.argmax(Y_test, axis=1), np.argmax(Y_hls_pred, axis=1))))"
   ]
  },
  {
   "cell_type": "code",
   "execution_count": null,
   "id": "2427e244-1b99-4672-87f4-c8ce09ee7505",
   "metadata": {},
   "outputs": [],
   "source": [
    "plt.figure(figsize=(4, 4))\n",
    "plot_roc(Y_test, Y_hls_pred, ['g','q','w','z','t'])"
   ]
  },
  {
   "cell_type": "code",
   "execution_count": null,
   "id": "3da09384-6557-401c-a756-ec0c2282ffa7",
   "metadata": {},
   "outputs": [],
   "source": [
    "del hls_model, config"
   ]
  },
  {
   "cell_type": "code",
   "execution_count": null,
   "id": "c7d7f4ca-eae3-449f-a5c2-4454fa8e8b1d",
   "metadata": {},
   "outputs": [],
   "source": []
  },
  {
   "cell_type": "code",
   "execution_count": null,
   "id": "2f783ae6-5ffa-4925-b6bf-66c60d497d4a",
   "metadata": {},
   "outputs": [],
   "source": []
  }
 ],
 "metadata": {
  "kernelspec": {
   "display_name": "Python 3 (ipykernel)",
   "language": "python",
   "name": "python3"
  },
  "language_info": {
   "codemirror_mode": {
    "name": "ipython",
    "version": 3
   },
   "file_extension": ".py",
   "mimetype": "text/x-python",
   "name": "python",
   "nbconvert_exporter": "python",
   "pygments_lexer": "ipython3",
   "version": "3.10.5"
  }
 },
 "nbformat": 4,
 "nbformat_minor": 5
}
